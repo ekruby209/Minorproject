{
 "cells": [
  {
   "cell_type": "code",
   "execution_count": 2,
   "id": "d3e4c1cf-9c7d-4df2-8573-5930a1cc6733",
   "metadata": {},
   "outputs": [],
   "source": [
    "import os\n",
    "os.environ['SPARK_HOME'] = 'C:/Users/RubyEllik/spark-3.5.2-bin-hadoop3'\n",
    "os.environ['PATH'] += os.pathsep + os.path.join(os.environ['SPARK_HOME'], 'bin')"
   ]
  },
  {
   "cell_type": "code",
   "execution_count": 3,
   "id": "eb54e039-0065-4764-987c-5353473980e3",
   "metadata": {},
   "outputs": [],
   "source": [
    "import os\n",
    "from pyspark.sql import SparkSession\n",
    "\n",
    "# Configure Spark\n",
    "os.environ['SPARK_HOME'] = 'C:/Users/RubyEllik/spark-3.5.2-bin-hadoop3'\n",
    "os.environ['PATH'] += os.pathsep + os.path.join(os.environ['SPARK_HOME'], 'bin')\n",
    "\n",
    "# Create Spark session\n",
    "spark = SparkSession.builder \\\n",
    "    .appName(\"Jupyter Notebook\") \\\n",
    "    .getOrCreate()"
   ]
  },
  {
   "cell_type": "code",
   "execution_count": 4,
   "id": "fd6046f6-1129-49c1-b83a-59250f48759c",
   "metadata": {},
   "outputs": [
    {
     "data": {
      "text/html": [
       "\n",
       "            <div>\n",
       "                <p><b>SparkSession - in-memory</b></p>\n",
       "                \n",
       "        <div>\n",
       "            <p><b>SparkContext</b></p>\n",
       "\n",
       "            <p><a href=\"http://host.docker.internal:4040\">Spark UI</a></p>\n",
       "\n",
       "            <dl>\n",
       "              <dt>Version</dt>\n",
       "                <dd><code>v3.5.2</code></dd>\n",
       "              <dt>Master</dt>\n",
       "                <dd><code>local[*]</code></dd>\n",
       "              <dt>AppName</dt>\n",
       "                <dd><code>Jupyter Notebook</code></dd>\n",
       "            </dl>\n",
       "        </div>\n",
       "        \n",
       "            </div>\n",
       "        "
      ],
      "text/plain": [
       "<pyspark.sql.session.SparkSession at 0x19d6b553680>"
      ]
     },
     "execution_count": 4,
     "metadata": {},
     "output_type": "execute_result"
    }
   ],
   "source": [
    "spark"
   ]
  },
  {
   "cell_type": "code",
   "execution_count": 5,
   "id": "25608773-9915-4938-82bb-0a316c9dfecb",
   "metadata": {},
   "outputs": [],
   "source": [
    "df= spark.read.csv(\"data.csv\", header=True)"
   ]
  },
  {
   "cell_type": "code",
   "execution_count": 18,
   "id": "c67efed4-8176-47fd-92b9-77233c96f6d1",
   "metadata": {},
   "outputs": [
    {
     "data": {
      "text/plain": [
       "541909"
      ]
     },
     "execution_count": 18,
     "metadata": {},
     "output_type": "execute_result"
    }
   ],
   "source": [
    "df.count()"
   ]
  },
  {
   "cell_type": "code",
   "execution_count": 6,
   "id": "5f48f585-e120-4cbb-a1a7-72eb25220d51",
   "metadata": {},
   "outputs": [
    {
     "name": "stdout",
     "output_type": "stream",
     "text": [
      "+---------+---------+-----------------------------------+--------+------------+---------+----------+--------------+\n",
      "|InvoiceNo|StockCode|Description                        |Quantity|InvoiceDate |UnitPrice|CustomerID|Country       |\n",
      "+---------+---------+-----------------------------------+--------+------------+---------+----------+--------------+\n",
      "|536365   |85123A   |WHITE HANGING HEART T-LIGHT HOLDER |6       |12/1/10 8:26|2.55     |17850     |United Kingdom|\n",
      "|536365   |71053    |WHITE METAL LANTERN                |6       |12/1/10 8:26|3.39     |17850     |United Kingdom|\n",
      "|536365   |84406B   |CREAM CUPID HEARTS COAT HANGER     |8       |12/1/10 8:26|2.75     |17850     |United Kingdom|\n",
      "|536365   |84029G   |KNITTED UNION FLAG HOT WATER BOTTLE|6       |12/1/10 8:26|3.39     |17850     |United Kingdom|\n",
      "|536365   |84029E   |RED WOOLLY HOTTIE WHITE HEART.     |6       |12/1/10 8:26|3.39     |17850     |United Kingdom|\n",
      "|536365   |22752    |SET 7 BABUSHKA NESTING BOXES       |2       |12/1/10 8:26|7.65     |17850     |United Kingdom|\n",
      "|536365   |21730    |GLASS STAR FROSTED T-LIGHT HOLDER  |6       |12/1/10 8:26|4.25     |17850     |United Kingdom|\n",
      "|536366   |22633    |HAND WARMER UNION JACK             |6       |12/1/10 8:28|1.85     |17850     |United Kingdom|\n",
      "|536366   |22632    |HAND WARMER RED POLKA DOT          |6       |12/1/10 8:28|1.85     |17850     |United Kingdom|\n",
      "|536367   |84879    |ASSORTED COLOUR BIRD ORNAMENT      |32      |12/1/10 8:34|1.69     |13047     |United Kingdom|\n",
      "|536367   |22745    |POPPY'S PLAYHOUSE BEDROOM          |6       |12/1/10 8:34|2.1      |13047     |United Kingdom|\n",
      "|536367   |22748    |POPPY'S PLAYHOUSE KITCHEN          |6       |12/1/10 8:34|2.1      |13047     |United Kingdom|\n",
      "|536367   |22749    |FELTCRAFT PRINCESS CHARLOTTE DOLL  |8       |12/1/10 8:34|3.75     |13047     |United Kingdom|\n",
      "|536367   |22310    |IVORY KNITTED MUG COSY             |6       |12/1/10 8:34|1.65     |13047     |United Kingdom|\n",
      "|536367   |84969    |BOX OF 6 ASSORTED COLOUR TEASPOONS |6       |12/1/10 8:34|4.25     |13047     |United Kingdom|\n",
      "|536367   |22623    |BOX OF VINTAGE JIGSAW BLOCKS       |3       |12/1/10 8:34|4.95     |13047     |United Kingdom|\n",
      "|536367   |22622    |BOX OF VINTAGE ALPHABET BLOCKS     |2       |12/1/10 8:34|9.95     |13047     |United Kingdom|\n",
      "|536367   |21754    |HOME BUILDING BLOCK WORD           |3       |12/1/10 8:34|5.95     |13047     |United Kingdom|\n",
      "|536367   |21755    |LOVE BUILDING BLOCK WORD           |3       |12/1/10 8:34|5.95     |13047     |United Kingdom|\n",
      "|536367   |21777    |RECIPE BOX WITH METAL HEART        |4       |12/1/10 8:34|7.95     |13047     |United Kingdom|\n",
      "+---------+---------+-----------------------------------+--------+------------+---------+----------+--------------+\n",
      "only showing top 20 rows\n",
      "\n"
     ]
    }
   ],
   "source": [
    "df.show(truncate=False)"
   ]
  },
  {
   "cell_type": "markdown",
   "id": "89888897-cdb6-45e9-b408-5b43e697886c",
   "metadata": {},
   "source": [
    "### when"
   ]
  },
  {
   "cell_type": "code",
   "execution_count": 20,
   "id": "9f6ec01b-71bf-4369-acd0-cfa42ee26abe",
   "metadata": {},
   "outputs": [
    {
     "name": "stdout",
     "output_type": "stream",
     "text": [
      "+---------+---------+--------------------+--------+------------+---------+----------+--------------+---------------+\n",
      "|InvoiceNo|StockCode|         Description|Quantity| InvoiceDate|UnitPrice|CustomerID|       Country|HighQualityFlag|\n",
      "+---------+---------+--------------------+--------+------------+---------+----------+--------------+---------------+\n",
      "|   536365|   85123A|WHITE HANGING HEA...|       6|12/1/10 8:26|     2.55|     17850|United Kingdom|            Low|\n",
      "|   536365|    71053| WHITE METAL LANTERN|       6|12/1/10 8:26|     3.39|     17850|United Kingdom|            Low|\n",
      "|   536365|   84406B|CREAM CUPID HEART...|       8|12/1/10 8:26|     2.75|     17850|United Kingdom|            Low|\n",
      "|   536365|   84029G|KNITTED UNION FLA...|       6|12/1/10 8:26|     3.39|     17850|United Kingdom|            Low|\n",
      "|   536365|   84029E|RED WOOLLY HOTTIE...|       6|12/1/10 8:26|     3.39|     17850|United Kingdom|            Low|\n",
      "|   536365|    22752|SET 7 BABUSHKA NE...|       2|12/1/10 8:26|     7.65|     17850|United Kingdom|            Low|\n",
      "|   536365|    21730|GLASS STAR FROSTE...|       6|12/1/10 8:26|     4.25|     17850|United Kingdom|            Low|\n",
      "|   536366|    22633|HAND WARMER UNION...|       6|12/1/10 8:28|     1.85|     17850|United Kingdom|            Low|\n",
      "|   536366|    22632|HAND WARMER RED P...|       6|12/1/10 8:28|     1.85|     17850|United Kingdom|            Low|\n",
      "|   536367|    84879|ASSORTED COLOUR B...|      32|12/1/10 8:34|     1.69|     13047|United Kingdom|      Very High|\n",
      "|   536367|    22745|POPPY'S PLAYHOUSE...|       6|12/1/10 8:34|      2.1|     13047|United Kingdom|            Low|\n",
      "|   536367|    22748|POPPY'S PLAYHOUSE...|       6|12/1/10 8:34|      2.1|     13047|United Kingdom|            Low|\n",
      "|   536367|    22749|FELTCRAFT PRINCES...|       8|12/1/10 8:34|     3.75|     13047|United Kingdom|            Low|\n",
      "|   536367|    22310|IVORY KNITTED MUG...|       6|12/1/10 8:34|     1.65|     13047|United Kingdom|            Low|\n",
      "|   536367|    84969|BOX OF 6 ASSORTED...|       6|12/1/10 8:34|     4.25|     13047|United Kingdom|            Low|\n",
      "|   536367|    22623|BOX OF VINTAGE JI...|       3|12/1/10 8:34|     4.95|     13047|United Kingdom|            Low|\n",
      "|   536367|    22622|BOX OF VINTAGE AL...|       2|12/1/10 8:34|     9.95|     13047|United Kingdom|            Low|\n",
      "|   536367|    21754|HOME BUILDING BLO...|       3|12/1/10 8:34|     5.95|     13047|United Kingdom|            Low|\n",
      "|   536367|    21755|LOVE BUILDING BLO...|       3|12/1/10 8:34|     5.95|     13047|United Kingdom|            Low|\n",
      "|   536367|    21777|RECIPE BOX WITH M...|       4|12/1/10 8:34|     7.95|     13047|United Kingdom|            Low|\n",
      "+---------+---------+--------------------+--------+------------+---------+----------+--------------+---------------+\n",
      "only showing top 20 rows\n",
      "\n"
     ]
    }
   ],
   "source": [
    "from pyspark.sql.functions import when\n",
    "df_with_flag=df.withColumn(\"HighQualityFlag\", when((df.Quantity>10) & (df.Quantity<20), \"High\").when(df.Quantity>20,\"Very High\").otherwise(\"Low\"))\n",
    "df_with_flag.show()"
   ]
  },
  {
   "cell_type": "code",
   "execution_count": 29,
   "id": "21ebb21d-4ce0-4e77-9be0-5f4ee4d37705",
   "metadata": {},
   "outputs": [
    {
     "name": "stdout",
     "output_type": "stream",
     "text": [
      "+---------+---------+--------------------+--------+------------+---------+----------+--------------+---------------+\n",
      "|InvoiceNo|StockCode|         Description|Quantity| InvoiceDate|UnitPrice|CustomerID|       Country|HighQualityFlag|\n",
      "+---------+---------+--------------------+--------+------------+---------+----------+--------------+---------------+\n",
      "|   536367|    84879|ASSORTED COLOUR B...|      32|12/1/10 8:34|     1.69|     13047|United Kingdom|      Very High|\n",
      "|   536370|    22728|ALARM CLOCK BAKEL...|      24|12/1/10 8:45|     3.75|     12583|        France|      Very High|\n",
      "|   536370|    22727|ALARM CLOCK BAKEL...|      24|12/1/10 8:45|     3.75|     12583|        France|      Very High|\n",
      "|   536370|    21883|    STARS GIFT TAPE |      24|12/1/10 8:45|     0.65|     12583|        France|      Very High|\n",
      "|   536370|    10002|INFLATABLE POLITI...|      48|12/1/10 8:45|     0.85|     12583|        France|      Very High|\n",
      "|   536370|    21791|VINTAGE HEADS AND...|      24|12/1/10 8:45|     1.25|     12583|        France|      Very High|\n",
      "|   536370|    22326|ROUND SNACK BOXES...|      24|12/1/10 8:45|     2.95|     12583|        France|      Very High|\n",
      "|   536370|    22629| SPACEBOY LUNCH BOX |      24|12/1/10 8:45|     1.95|     12583|        France|      Very High|\n",
      "|   536370|    22659|LUNCH BOX I LOVE ...|      24|12/1/10 8:45|     1.95|     12583|        France|      Very High|\n",
      "|   536370|    22631|CIRCUS PARADE LUN...|      24|12/1/10 8:45|     1.95|     12583|        France|      Very High|\n",
      "|   536370|    21731|RED TOADSTOOL LED...|      24|12/1/10 8:45|     1.65|     12583|        France|      Very High|\n",
      "|   536370|    22900| SET 2 TEA TOWELS...|      24|12/1/10 8:45|     2.95|     12583|        France|      Very High|\n",
      "|   536370|    22540|MINI JIGSAW CIRCU...|      24|12/1/10 8:45|     0.42|     12583|        France|      Very High|\n",
      "|   536370|    22544|MINI JIGSAW SPACEBOY|      24|12/1/10 8:45|     0.42|     12583|        France|      Very High|\n",
      "|   536370|    22492|MINI PAINT SET VI...|      36|12/1/10 8:45|     0.65|     12583|        France|      Very High|\n",
      "|   536371|    22086|PAPER CHAIN KIT 5...|      80|12/1/10 9:00|     2.55|     13748|United Kingdom|      Very High|\n",
      "|   536374|    21258|VICTORIAN SEWING ...|      32|12/1/10 9:09|    10.95|     15100|United Kingdom|      Very High|\n",
      "|   536376|    22114|HOT WATER BOTTLE ...|      48|12/1/10 9:32|     3.45|     15291|United Kingdom|      Very High|\n",
      "|   536376|    21733|RED HANGING HEART...|      64|12/1/10 9:32|     2.55|     15291|United Kingdom|      Very High|\n",
      "|   536378|    21212|PACK OF 72 RETROS...|     120|12/1/10 9:37|     0.42|     14688|United Kingdom|      Very High|\n",
      "+---------+---------+--------------------+--------+------------+---------+----------+--------------+---------------+\n",
      "only showing top 20 rows\n",
      "\n"
     ]
    }
   ],
   "source": [
    "df_VH = df_with_flag.filter(df_with_flag.HighQualityFlag == \"Very High\")#df_with_flag.show(truncate=False)\n",
    "df_VH.show()"
   ]
  },
  {
   "cell_type": "markdown",
   "id": "2fa49ca3-91e9-4636-8162-e72660ea24af",
   "metadata": {},
   "source": [
    "### expr()"
   ]
  },
  {
   "cell_type": "code",
   "execution_count": 32,
   "id": "e188114f-d098-4fb1-9d58-c629868b9eca",
   "metadata": {},
   "outputs": [
    {
     "name": "stdout",
     "output_type": "stream",
     "text": [
      "+---------+---------+---------------+------------------------+\n",
      "|InvoiceNo|StockCode|HighQualityFlag|expr_testing            |\n",
      "+---------+---------+---------------+------------------------+\n",
      "|536367   |84879    |Very High      |United Kingdom,Very High|\n",
      "|536370   |22728    |Very High      |France,Very High        |\n",
      "|536370   |22727    |Very High      |France,Very High        |\n",
      "|536370   |21883    |Very High      |France,Very High        |\n",
      "|536370   |10002    |Very High      |France,Very High        |\n",
      "|536370   |21791    |Very High      |France,Very High        |\n",
      "|536370   |22326    |Very High      |France,Very High        |\n",
      "|536370   |22629    |Very High      |France,Very High        |\n",
      "|536370   |22659    |Very High      |France,Very High        |\n",
      "|536370   |22631    |Very High      |France,Very High        |\n",
      "|536370   |21731    |Very High      |France,Very High        |\n",
      "|536370   |22900    |Very High      |France,Very High        |\n",
      "|536370   |22540    |Very High      |France,Very High        |\n",
      "|536370   |22544    |Very High      |France,Very High        |\n",
      "|536370   |22492    |Very High      |France,Very High        |\n",
      "|536371   |22086    |Very High      |United Kingdom,Very High|\n",
      "|536374   |21258    |Very High      |United Kingdom,Very High|\n",
      "|536376   |22114    |Very High      |United Kingdom,Very High|\n",
      "|536376   |21733    |Very High      |United Kingdom,Very High|\n",
      "|536378   |21212    |Very High      |United Kingdom,Very High|\n",
      "+---------+---------+---------------+------------------------+\n",
      "only showing top 20 rows\n",
      "\n"
     ]
    }
   ],
   "source": [
    "from pyspark.sql.functions import expr\n",
    "df_VH_expr= df_VH.withColumn(\"expr_testing\", expr(\"country ||','|| HighQualityFlag\"))\n",
    "df_VH_expr.select(\"InvoiceNo\", \"StockCode\", \"HighQualityFlag\", \"expr_testing\").show(truncate= False)"
   ]
  },
  {
   "cell_type": "code",
   "execution_count": 33,
   "id": "80aaf0b1-e56a-45d4-ab62-7e27ce94e395",
   "metadata": {},
   "outputs": [
    {
     "name": "stdout",
     "output_type": "stream",
     "text": [
      "+--------------------+-----+\n",
      "|        expr_testing|count|\n",
      "+--------------------+-----+\n",
      "|      EIRE,Very High| 1688|\n",
      "|   Germany,Very High| 1541|\n",
      "|  Portugal,Very High|  193|\n",
      "|     Spain,Very High|  339|\n",
      "|   Iceland,Very High|   35|\n",
      "|     Japan,Very High|  232|\n",
      "|Switzerland,Very ...|  483|\n",
      "|   Bahrain,Very High|    4|\n",
      "|   Denmark,Very High|  153|\n",
      "|    Poland,Very High|   46|\n",
      "| Lithuania,Very High|   11|\n",
      "|    France,Very High| 1423|\n",
      "| Australia,Very High|  690|\n",
      "|Channel Islands,V...|  127|\n",
      "|Netherlands,Very ...| 1734|\n",
      "|    Sweden,Very High|  229|\n",
      "|   Belgium,Very High|  262|\n",
      "|     Italy,Very High|   80|\n",
      "|    Norway,Very High|  316|\n",
      "|    Cyprus,Very High|   63|\n",
      "+--------------------+-----+\n",
      "only showing top 20 rows\n",
      "\n"
     ]
    }
   ],
   "source": [
    "df_VH_expr.groupBy(\"expr_testing\").count().show()"
   ]
  },
  {
   "cell_type": "markdown",
   "id": "0cf40e27-4e27-497b-b3ae-f8fc8bcf15c7",
   "metadata": {},
   "source": [
    "### Lit_value"
   ]
  },
  {
   "cell_type": "code",
   "execution_count": 41,
   "id": "2df2ea46-0aae-4e8a-a492-a084bad09365",
   "metadata": {},
   "outputs": [
    {
     "name": "stdout",
     "output_type": "stream",
     "text": [
      "+---------+---------+--------------------+--------+------------+---------+----------+--------------+---------------+---------+\n",
      "|InvoiceNo|StockCode|         Description|Quantity| InvoiceDate|UnitPrice|CustomerID|       Country|HighQualityFlag|Lit_value|\n",
      "+---------+---------+--------------------+--------+------------+---------+----------+--------------+---------------+---------+\n",
      "|   536365|   85123A|WHITE HANGING HEA...|       6|12/1/10 8:26|     2.55|     17850|United Kingdom|            Low|        0|\n",
      "|   536365|    71053| WHITE METAL LANTERN|       6|12/1/10 8:26|     3.39|     17850|United Kingdom|            Low|        0|\n",
      "|   536365|   84406B|CREAM CUPID HEART...|       8|12/1/10 8:26|     2.75|     17850|United Kingdom|            Low|        0|\n",
      "|   536365|   84029G|KNITTED UNION FLA...|       6|12/1/10 8:26|     3.39|     17850|United Kingdom|            Low|        0|\n",
      "|   536365|   84029E|RED WOOLLY HOTTIE...|       6|12/1/10 8:26|     3.39|     17850|United Kingdom|            Low|        0|\n",
      "|   536365|    22752|SET 7 BABUSHKA NE...|       2|12/1/10 8:26|     7.65|     17850|United Kingdom|            Low|        0|\n",
      "|   536365|    21730|GLASS STAR FROSTE...|       6|12/1/10 8:26|     4.25|     17850|United Kingdom|            Low|        0|\n",
      "|   536366|    22633|HAND WARMER UNION...|       6|12/1/10 8:28|     1.85|     17850|United Kingdom|            Low|        0|\n",
      "|   536366|    22632|HAND WARMER RED P...|       6|12/1/10 8:28|     1.85|     17850|United Kingdom|            Low|        0|\n",
      "|   536367|    84879|ASSORTED COLOUR B...|      32|12/1/10 8:34|     1.69|     13047|United Kingdom|      Very High|        1|\n",
      "|   536367|    22745|POPPY'S PLAYHOUSE...|       6|12/1/10 8:34|      2.1|     13047|United Kingdom|            Low|        0|\n",
      "|   536367|    22748|POPPY'S PLAYHOUSE...|       6|12/1/10 8:34|      2.1|     13047|United Kingdom|            Low|        0|\n",
      "|   536367|    22749|FELTCRAFT PRINCES...|       8|12/1/10 8:34|     3.75|     13047|United Kingdom|            Low|        0|\n",
      "|   536367|    22310|IVORY KNITTED MUG...|       6|12/1/10 8:34|     1.65|     13047|United Kingdom|            Low|        0|\n",
      "|   536367|    84969|BOX OF 6 ASSORTED...|       6|12/1/10 8:34|     4.25|     13047|United Kingdom|            Low|        0|\n",
      "|   536367|    22623|BOX OF VINTAGE JI...|       3|12/1/10 8:34|     4.95|     13047|United Kingdom|            Low|        0|\n",
      "|   536367|    22622|BOX OF VINTAGE AL...|       2|12/1/10 8:34|     9.95|     13047|United Kingdom|            Low|        0|\n",
      "|   536367|    21754|HOME BUILDING BLO...|       3|12/1/10 8:34|     5.95|     13047|United Kingdom|            Low|        0|\n",
      "|   536367|    21755|LOVE BUILDING BLO...|       3|12/1/10 8:34|     5.95|     13047|United Kingdom|            Low|        0|\n",
      "|   536367|    21777|RECIPE BOX WITH M...|       4|12/1/10 8:34|     7.95|     13047|United Kingdom|            Low|        0|\n",
      "+---------+---------+--------------------+--------+------------+---------+----------+--------------+---------------+---------+\n",
      "only showing top 20 rows\n",
      "\n"
     ]
    }
   ],
   "source": [
    "from pyspark.sql.functions import lit\n",
    "df_with_lit=df_with_flag.withColumn(\"Lit_value\", when(df_with_flag.HighQualityFlag==\"Very High\", lit(\"1\" )).otherwise(lit(\"0\"))).show()"
   ]
  },
  {
   "cell_type": "markdown",
   "id": "2673dcaf-1d5b-4b08-9a91-c04e1582c292",
   "metadata": {},
   "source": [
    "####  PySpark function concat_ws() (translates to concat with separator)"
   ]
  },
  {
   "cell_type": "code",
   "execution_count": 50,
   "id": "46a1e131-9703-499b-9c05-a06a7e70a128",
   "metadata": {},
   "outputs": [
    {
     "name": "stdout",
     "output_type": "stream",
     "text": [
      "+---------+---------+--------------------+--------+------------+---------+----------+--------------+\n",
      "|InvoiceNo|StockCode|         Description|Quantity| InvoiceDate|UnitPrice|CustomerID|       Country|\n",
      "+---------+---------+--------------------+--------+------------+---------+----------+--------------+\n",
      "|   536365|   85123A|WHITE HANGING HEA...|       6|12/1/10 8:26|     2.55|     17850|United Kingdom|\n",
      "|   536365|    71053| WHITE METAL LANTERN|       6|12/1/10 8:26|     3.39|     17850|United Kingdom|\n",
      "|   536365|   84406B|CREAM CUPID HEART...|       8|12/1/10 8:26|     2.75|     17850|United Kingdom|\n",
      "|   536365|   84029G|KNITTED UNION FLA...|       6|12/1/10 8:26|     3.39|     17850|United Kingdom|\n",
      "|   536365|   84029E|RED WOOLLY HOTTIE...|       6|12/1/10 8:26|     3.39|     17850|United Kingdom|\n",
      "|   536365|    22752|SET 7 BABUSHKA NE...|       2|12/1/10 8:26|     7.65|     17850|United Kingdom|\n",
      "|   536365|    21730|GLASS STAR FROSTE...|       6|12/1/10 8:26|     4.25|     17850|United Kingdom|\n",
      "|   536366|    22633|HAND WARMER UNION...|       6|12/1/10 8:28|     1.85|     17850|United Kingdom|\n",
      "|   536366|    22632|HAND WARMER RED P...|       6|12/1/10 8:28|     1.85|     17850|United Kingdom|\n",
      "|   536367|    84879|ASSORTED COLOUR B...|      32|12/1/10 8:34|     1.69|     13047|United Kingdom|\n",
      "|   536367|    22745|POPPY'S PLAYHOUSE...|       6|12/1/10 8:34|      2.1|     13047|United Kingdom|\n",
      "|   536367|    22748|POPPY'S PLAYHOUSE...|       6|12/1/10 8:34|      2.1|     13047|United Kingdom|\n",
      "|   536367|    22749|FELTCRAFT PRINCES...|       8|12/1/10 8:34|     3.75|     13047|United Kingdom|\n",
      "|   536367|    22310|IVORY KNITTED MUG...|       6|12/1/10 8:34|     1.65|     13047|United Kingdom|\n",
      "|   536367|    84969|BOX OF 6 ASSORTED...|       6|12/1/10 8:34|     4.25|     13047|United Kingdom|\n",
      "|   536367|    22623|BOX OF VINTAGE JI...|       3|12/1/10 8:34|     4.95|     13047|United Kingdom|\n",
      "|   536367|    22622|BOX OF VINTAGE AL...|       2|12/1/10 8:34|     9.95|     13047|United Kingdom|\n",
      "|   536367|    21754|HOME BUILDING BLO...|       3|12/1/10 8:34|     5.95|     13047|United Kingdom|\n",
      "|   536367|    21755|LOVE BUILDING BLO...|       3|12/1/10 8:34|     5.95|     13047|United Kingdom|\n",
      "|   536367|    21777|RECIPE BOX WITH M...|       4|12/1/10 8:34|     7.95|     13047|United Kingdom|\n",
      "+---------+---------+--------------------+--------+------------+---------+----------+--------------+\n",
      "only showing top 20 rows\n",
      "\n"
     ]
    },
    {
     "data": {
      "text/plain": [
       "[('InvoiceNo', 'string'),\n",
       " ('StockCode', 'string'),\n",
       " ('Description', 'string'),\n",
       " ('Quantity', 'string'),\n",
       " ('InvoiceDate', 'string'),\n",
       " ('UnitPrice', 'string'),\n",
       " ('CustomerID', 'string'),\n",
       " ('Country', 'string')]"
      ]
     },
     "execution_count": 50,
     "metadata": {},
     "output_type": "execute_result"
    }
   ],
   "source": [
    "df1=df\n",
    "df1.show()\n",
    "df1.dtypes"
   ]
  },
  {
   "cell_type": "code",
   "execution_count": 52,
   "id": "96268d94-cf52-470a-be68-27a18b4ea272",
   "metadata": {},
   "outputs": [
    {
     "name": "stdout",
     "output_type": "stream",
     "text": [
      "+---------+---------+-----------------------------------+--------+------------+---------+----------+--------------+----------+\n",
      "|InvoiceNo|StockCode|Description                        |Quantity|InvoiceDate |UnitPrice|CustomerID|Country       |New_column|\n",
      "+---------+---------+-----------------------------------+--------+------------+---------+----------+--------------+----------+\n",
      "|536365   |85123A   |WHITE HANGING HEART T-LIGHT HOLDER |6       |12/1/10 8:26|2.55     |17850     |United Kingdom|6,85123A  |\n",
      "|536365   |71053    |WHITE METAL LANTERN                |6       |12/1/10 8:26|3.39     |17850     |United Kingdom|6,71053   |\n",
      "|536365   |84406B   |CREAM CUPID HEARTS COAT HANGER     |8       |12/1/10 8:26|2.75     |17850     |United Kingdom|8,84406B  |\n",
      "|536365   |84029G   |KNITTED UNION FLAG HOT WATER BOTTLE|6       |12/1/10 8:26|3.39     |17850     |United Kingdom|6,84029G  |\n",
      "|536365   |84029E   |RED WOOLLY HOTTIE WHITE HEART.     |6       |12/1/10 8:26|3.39     |17850     |United Kingdom|6,84029E  |\n",
      "|536365   |22752    |SET 7 BABUSHKA NESTING BOXES       |2       |12/1/10 8:26|7.65     |17850     |United Kingdom|2,22752   |\n",
      "|536365   |21730    |GLASS STAR FROSTED T-LIGHT HOLDER  |6       |12/1/10 8:26|4.25     |17850     |United Kingdom|6,21730   |\n",
      "|536366   |22633    |HAND WARMER UNION JACK             |6       |12/1/10 8:28|1.85     |17850     |United Kingdom|6,22633   |\n",
      "|536366   |22632    |HAND WARMER RED POLKA DOT          |6       |12/1/10 8:28|1.85     |17850     |United Kingdom|6,22632   |\n",
      "|536367   |84879    |ASSORTED COLOUR BIRD ORNAMENT      |32      |12/1/10 8:34|1.69     |13047     |United Kingdom|32,84879  |\n",
      "|536367   |22745    |POPPY'S PLAYHOUSE BEDROOM          |6       |12/1/10 8:34|2.1      |13047     |United Kingdom|6,22745   |\n",
      "|536367   |22748    |POPPY'S PLAYHOUSE KITCHEN          |6       |12/1/10 8:34|2.1      |13047     |United Kingdom|6,22748   |\n",
      "|536367   |22749    |FELTCRAFT PRINCESS CHARLOTTE DOLL  |8       |12/1/10 8:34|3.75     |13047     |United Kingdom|8,22749   |\n",
      "|536367   |22310    |IVORY KNITTED MUG COSY             |6       |12/1/10 8:34|1.65     |13047     |United Kingdom|6,22310   |\n",
      "|536367   |84969    |BOX OF 6 ASSORTED COLOUR TEASPOONS |6       |12/1/10 8:34|4.25     |13047     |United Kingdom|6,84969   |\n",
      "|536367   |22623    |BOX OF VINTAGE JIGSAW BLOCKS       |3       |12/1/10 8:34|4.95     |13047     |United Kingdom|3,22623   |\n",
      "|536367   |22622    |BOX OF VINTAGE ALPHABET BLOCKS     |2       |12/1/10 8:34|9.95     |13047     |United Kingdom|2,22622   |\n",
      "|536367   |21754    |HOME BUILDING BLOCK WORD           |3       |12/1/10 8:34|5.95     |13047     |United Kingdom|3,21754   |\n",
      "|536367   |21755    |LOVE BUILDING BLOCK WORD           |3       |12/1/10 8:34|5.95     |13047     |United Kingdom|3,21755   |\n",
      "|536367   |21777    |RECIPE BOX WITH METAL HEART        |4       |12/1/10 8:34|7.95     |13047     |United Kingdom|4,21777   |\n",
      "+---------+---------+-----------------------------------+--------+------------+---------+----------+--------------+----------+\n",
      "only showing top 20 rows\n",
      "\n"
     ]
    }
   ],
   "source": [
    "from pyspark.sql.functions import col, concat_ws\n",
    "df1.withColumn(\"New_column\",concat_ws(\",\", col(\"Quantity\"), col(\"StockCode\"))).show(truncate=False)"
   ]
  },
  {
   "cell_type": "markdown",
   "id": "d28622b8-a4f7-4f7c-802c-d4f9279cfc24",
   "metadata": {},
   "source": [
    "### substring(col_name,start_pos,len)"
   ]
  },
  {
   "cell_type": "markdown",
   "id": "da6e5306-763c-434a-920a-70eafa81d615",
   "metadata": {},
   "source": [
    "#### substring using withColumn"
   ]
  },
  {
   "cell_type": "code",
   "execution_count": 53,
   "id": "3a16fc68-863e-402b-8ca1-93e3a351fedc",
   "metadata": {},
   "outputs": [
    {
     "name": "stdout",
     "output_type": "stream",
     "text": [
      "+---------+---------+-----------------------------------+--------+------------+---------+----------+--------------+---------------+\n",
      "|InvoiceNo|StockCode|Description                        |Quantity|InvoiceDate |UnitPrice|CustomerID|Country       |Descr_substring|\n",
      "+---------+---------+-----------------------------------+--------+------------+---------+----------+--------------+---------------+\n",
      "|536365   |85123A   |WHITE HANGING HEART T-LIGHT HOLDER |6       |12/1/10 8:26|2.55     |17850     |United Kingdom|WHITE          |\n",
      "|536365   |71053    |WHITE METAL LANTERN                |6       |12/1/10 8:26|3.39     |17850     |United Kingdom|WHITE          |\n",
      "|536365   |84406B   |CREAM CUPID HEARTS COAT HANGER     |8       |12/1/10 8:26|2.75     |17850     |United Kingdom|CREAM          |\n",
      "|536365   |84029G   |KNITTED UNION FLAG HOT WATER BOTTLE|6       |12/1/10 8:26|3.39     |17850     |United Kingdom|KNITT          |\n",
      "|536365   |84029E   |RED WOOLLY HOTTIE WHITE HEART.     |6       |12/1/10 8:26|3.39     |17850     |United Kingdom|RED W          |\n",
      "|536365   |22752    |SET 7 BABUSHKA NESTING BOXES       |2       |12/1/10 8:26|7.65     |17850     |United Kingdom|SET 7          |\n",
      "|536365   |21730    |GLASS STAR FROSTED T-LIGHT HOLDER  |6       |12/1/10 8:26|4.25     |17850     |United Kingdom|GLASS          |\n",
      "|536366   |22633    |HAND WARMER UNION JACK             |6       |12/1/10 8:28|1.85     |17850     |United Kingdom|HAND           |\n",
      "|536366   |22632    |HAND WARMER RED POLKA DOT          |6       |12/1/10 8:28|1.85     |17850     |United Kingdom|HAND           |\n",
      "|536367   |84879    |ASSORTED COLOUR BIRD ORNAMENT      |32      |12/1/10 8:34|1.69     |13047     |United Kingdom|ASSOR          |\n",
      "|536367   |22745    |POPPY'S PLAYHOUSE BEDROOM          |6       |12/1/10 8:34|2.1      |13047     |United Kingdom|POPPY          |\n",
      "|536367   |22748    |POPPY'S PLAYHOUSE KITCHEN          |6       |12/1/10 8:34|2.1      |13047     |United Kingdom|POPPY          |\n",
      "|536367   |22749    |FELTCRAFT PRINCESS CHARLOTTE DOLL  |8       |12/1/10 8:34|3.75     |13047     |United Kingdom|FELTC          |\n",
      "|536367   |22310    |IVORY KNITTED MUG COSY             |6       |12/1/10 8:34|1.65     |13047     |United Kingdom|IVORY          |\n",
      "|536367   |84969    |BOX OF 6 ASSORTED COLOUR TEASPOONS |6       |12/1/10 8:34|4.25     |13047     |United Kingdom|BOX O          |\n",
      "|536367   |22623    |BOX OF VINTAGE JIGSAW BLOCKS       |3       |12/1/10 8:34|4.95     |13047     |United Kingdom|BOX O          |\n",
      "|536367   |22622    |BOX OF VINTAGE ALPHABET BLOCKS     |2       |12/1/10 8:34|9.95     |13047     |United Kingdom|BOX O          |\n",
      "|536367   |21754    |HOME BUILDING BLOCK WORD           |3       |12/1/10 8:34|5.95     |13047     |United Kingdom|HOME           |\n",
      "|536367   |21755    |LOVE BUILDING BLOCK WORD           |3       |12/1/10 8:34|5.95     |13047     |United Kingdom|LOVE           |\n",
      "|536367   |21777    |RECIPE BOX WITH METAL HEART        |4       |12/1/10 8:34|7.95     |13047     |United Kingdom|RECIP          |\n",
      "+---------+---------+-----------------------------------+--------+------------+---------+----------+--------------+---------------+\n",
      "only showing top 20 rows\n",
      "\n"
     ]
    }
   ],
   "source": [
    "from pyspark.sql.functions import col, substring\n",
    "df1.withColumn(\"Descr_substring\", substring(\"Description\",1,5)).show(truncate=False)"
   ]
  },
  {
   "cell_type": "markdown",
   "id": "44e2c4c1-bcb5-45e8-9c27-8f7f7f4f28fb",
   "metadata": {},
   "source": [
    "#### substring with select"
   ]
  },
  {
   "cell_type": "code",
   "execution_count": 55,
   "id": "b839906e-7cde-41d0-9f4c-fa48e36dc933",
   "metadata": {},
   "outputs": [
    {
     "name": "stdout",
     "output_type": "stream",
     "text": [
      "+--------------------+--------------------+\n",
      "|         Description|des_subString_select|\n",
      "+--------------------+--------------------+\n",
      "|WHITE HANGING HEA...|              WHITE |\n",
      "| WHITE METAL LANTERN|              WHITE |\n",
      "|CREAM CUPID HEART...|              CREAM |\n",
      "|KNITTED UNION FLA...|              KNITTE|\n",
      "|RED WOOLLY HOTTIE...|              RED WO|\n",
      "|SET 7 BABUSHKA NE...|              SET 7 |\n",
      "|GLASS STAR FROSTE...|              GLASS |\n",
      "|HAND WARMER UNION...|              HAND W|\n",
      "|HAND WARMER RED P...|              HAND W|\n",
      "|ASSORTED COLOUR B...|              ASSORT|\n",
      "|POPPY'S PLAYHOUSE...|              POPPY'|\n",
      "|POPPY'S PLAYHOUSE...|              POPPY'|\n",
      "|FELTCRAFT PRINCES...|              FELTCR|\n",
      "|IVORY KNITTED MUG...|              IVORY |\n",
      "|BOX OF 6 ASSORTED...|              BOX OF|\n",
      "|BOX OF VINTAGE JI...|              BOX OF|\n",
      "|BOX OF VINTAGE AL...|              BOX OF|\n",
      "|HOME BUILDING BLO...|              HOME B|\n",
      "|LOVE BUILDING BLO...|              LOVE B|\n",
      "|RECIPE BOX WITH M...|              RECIPE|\n",
      "+--------------------+--------------------+\n",
      "only showing top 20 rows\n",
      "\n"
     ]
    }
   ],
   "source": [
    "df1.select(\"Description\", substring(\"Description\", 1, 6).alias (\"des_subString_select\")).show()"
   ]
  },
  {
   "cell_type": "markdown",
   "id": "9b0b6398-8e31-4701-9248-a42b3b417728",
   "metadata": {},
   "source": [
    "#### selectExpr, syntax is same as select."
   ]
  },
  {
   "cell_type": "markdown",
   "id": "369e4e36-f04d-4308-9d2e-2e8857f3cac3",
   "metadata": {},
   "source": [
    "#############################################################################################################"
   ]
  },
  {
   "cell_type": "markdown",
   "id": "f33ca549-bdc1-4470-b401-09b653ce6fe3",
   "metadata": {},
   "source": [
    "##### You can replace column values of PySpark DataFrame by using SQL string functions regexp_replace(), translate(), and overlay() with Python examples.\n",
    "\n"
   ]
  },
  {
   "cell_type": "markdown",
   "id": "c8fb4ad1-fcdb-49a4-9108-a41c6b9ee285",
   "metadata": {},
   "source": [
    "### PySpark Replace String Column Values\n"
   ]
  },
  {
   "cell_type": "code",
   "execution_count": null,
   "id": "d0d35f71-ba87-4040-924a-16720e96cd74",
   "metadata": {},
   "outputs": [],
   "source": []
  }
 ],
 "metadata": {
  "kernelspec": {
   "display_name": "Python (myenv)",
   "language": "python",
   "name": "myenv"
  },
  "language_info": {
   "codemirror_mode": {
    "name": "ipython",
    "version": 3
   },
   "file_extension": ".py",
   "mimetype": "text/x-python",
   "name": "python",
   "nbconvert_exporter": "python",
   "pygments_lexer": "ipython3",
   "version": "3.12.6"
  }
 },
 "nbformat": 4,
 "nbformat_minor": 5
}
